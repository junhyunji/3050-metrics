{
 "cells": [
  {
   "cell_type": "markdown",
   "id": "1b6c9385",
   "metadata": {},
   "source": [
    "# Zipf’s and Gibart’s Laws"
   ]
  },
  {
   "cell_type": "code",
   "execution_count": 92,
   "id": "c203ecfd",
   "metadata": {},
   "outputs": [],
   "source": [
    "import numpy as np\n",
    "import pandas as pd\n",
    "from sklearn.neighbors import KernelDensity\n",
    "from matplotlib import pyplot as plt"
   ]
  },
  {
   "cell_type": "code",
   "execution_count": 30,
   "id": "b19abb11",
   "metadata": {},
   "outputs": [],
   "source": [
    "data = pd.read_csv(\"/Users/brunokomel/Downloads/US_supermarkets.csv\")\n",
    "df = pd.DataFrame(data, columns=['firm','number_of_stores'])"
   ]
  },
  {
   "cell_type": "code",
   "execution_count": 66,
   "id": "606f8dea",
   "metadata": {},
   "outputs": [
    {
     "data": {
      "text/html": [
       "<div>\n",
       "<style scoped>\n",
       "    .dataframe tbody tr th:only-of-type {\n",
       "        vertical-align: middle;\n",
       "    }\n",
       "\n",
       "    .dataframe tbody tr th {\n",
       "        vertical-align: top;\n",
       "    }\n",
       "\n",
       "    .dataframe thead th {\n",
       "        text-align: right;\n",
       "    }\n",
       "</style>\n",
       "<table border=\"1\" class=\"dataframe\">\n",
       "  <thead>\n",
       "    <tr style=\"text-align: right;\">\n",
       "      <th></th>\n",
       "      <th>firm</th>\n",
       "      <th>number_of_stores</th>\n",
       "    </tr>\n",
       "  </thead>\n",
       "  <tbody>\n",
       "    <tr>\n",
       "      <th>0</th>\n",
       "      <td>114 Grocery &amp; Deli Incorporated</td>\n",
       "      <td>1</td>\n",
       "    </tr>\n",
       "    <tr>\n",
       "      <th>1</th>\n",
       "      <td>1st Oriental Supermarket</td>\n",
       "      <td>2</td>\n",
       "    </tr>\n",
       "    <tr>\n",
       "      <th>2</th>\n",
       "      <td>A &amp; A Fine Foods</td>\n",
       "      <td>1</td>\n",
       "    </tr>\n",
       "    <tr>\n",
       "      <th>3</th>\n",
       "      <td>A &amp; G Fine Foods Incorporated</td>\n",
       "      <td>1</td>\n",
       "    </tr>\n",
       "    <tr>\n",
       "      <th>4</th>\n",
       "      <td>A &amp; P Food Stores</td>\n",
       "      <td>109</td>\n",
       "    </tr>\n",
       "    <tr>\n",
       "      <th>...</th>\n",
       "      <td>...</td>\n",
       "      <td>...</td>\n",
       "    </tr>\n",
       "    <tr>\n",
       "      <th>632</th>\n",
       "      <td>White Market</td>\n",
       "      <td>5</td>\n",
       "    </tr>\n",
       "    <tr>\n",
       "      <th>633</th>\n",
       "      <td>Whites Fresh Foods</td>\n",
       "      <td>13</td>\n",
       "    </tr>\n",
       "    <tr>\n",
       "      <th>634</th>\n",
       "      <td>Whole Foods Market</td>\n",
       "      <td>68</td>\n",
       "    </tr>\n",
       "    <tr>\n",
       "      <th>635</th>\n",
       "      <td>Winco</td>\n",
       "      <td>14</td>\n",
       "    </tr>\n",
       "    <tr>\n",
       "      <th>636</th>\n",
       "      <td>Winn Dixie</td>\n",
       "      <td>608</td>\n",
       "    </tr>\n",
       "  </tbody>\n",
       "</table>\n",
       "<p>637 rows × 2 columns</p>\n",
       "</div>"
      ],
      "text/plain": [
       "                                firm  number_of_stores\n",
       "0    114 Grocery & Deli Incorporated                 1\n",
       "1           1st Oriental Supermarket                 2\n",
       "2                   A & A Fine Foods                 1\n",
       "3      A & G Fine Foods Incorporated                 1\n",
       "4                  A & P Food Stores               109\n",
       "..                               ...               ...\n",
       "632                     White Market                 5\n",
       "633               Whites Fresh Foods                13\n",
       "634               Whole Foods Market                68\n",
       "635                            Winco                14\n",
       "636                       Winn Dixie               608\n",
       "\n",
       "[637 rows x 2 columns]"
      ]
     },
     "metadata": {},
     "output_type": "display_data"
    }
   ],
   "source": [
    "display(df)"
   ]
  },
  {
   "cell_type": "code",
   "execution_count": 69,
   "id": "4f755297",
   "metadata": {
    "scrolled": true
   },
   "outputs": [
    {
     "name": "stdout",
     "output_type": "stream",
     "text": [
      "637\n",
      "637\n"
     ]
    }
   ],
   "source": [
    "print(len(df.firm.unique()))\n",
    "print(len(df))\n",
    "#so there are no stores with repeated values (although from looking at the data some of these are really close)"
   ]
  },
  {
   "cell_type": "code",
   "execution_count": 91,
   "id": "8e903f3f",
   "metadata": {},
   "outputs": [
    {
     "data": {
      "text/plain": [
       "(array([ 38., 104.,   0., 123.,  53.,  81.,  59.,  44.,  25.,  24.,  19.,\n",
       "         15.,  10.,  17.,   6.,   6.,   1.,   3.,   3.,   4.,   1.,   1.]),\n",
       " array([0.        , 0.35728114, 0.71456228, 1.07184342, 1.42912456,\n",
       "        1.78640569, 2.14368683, 2.50096797, 2.85824911, 3.21553025,\n",
       "        3.57281139, 3.93009253, 4.28737367, 4.64465481, 5.00193595,\n",
       "        5.35921708, 5.71649822, 6.07377936, 6.4310605 , 6.78834164,\n",
       "        7.14562278, 7.50290392, 7.86018506]),\n",
       " <BarContainer object of 22 artists>)"
      ]
     },
     "execution_count": 91,
     "metadata": {},
     "output_type": "execute_result"
    },
    {
     "data": {
      "image/png": "[encoded data removed]",
      "text/plain": [
       "<Figure size 864x288 with 3 Axes>"
      ]
     },
     "metadata": {
      "needs_background": "light"
     },
     "output_type": "display_data"
    }
   ],
   "source": [
    "fig, (ax0,ax1,ax2) = plt.subplots(ncols =3, figsize =(12,4))\n",
    "\n",
    "ax0.hist(df.number_of_stores, bins = 'auto')\n",
    "ax1.hist(df.number_of_stores, bins = 'auto', log = True)\n",
    "ax2.hist(np.log(df.number_of_stores), bins = 'auto' , log = True)"
   ]
  },
  {
   "cell_type": "markdown",
   "id": "6f67e88c",
   "metadata": {},
   "source": [
    "## 1. State Zipf’s Law. Why does Zipf’s Law suggest that certain variables have a Pareto distribution?\n"
   ]
  },
  {
   "cell_type": "markdown",
   "id": "a6a63905",
   "metadata": {},
   "source": [
    "Zipfs law, which originally concerns frequency of words in liguistics, states that given some population, the frequency of any event is inversely proportional to its rank in the frequency table. More clearly, the most frequent event occurs about twice as often as the second most frequent event, three times as often as the third most frequent event, etc. \n",
    "\n",
    "Zipf's law suggests that certain variables follow a Pareto distribution because it is analogous to the continous Pareto distribution in the same way that the discrete uniform distribution is analogous to the continuous uniform distribution (from Wikipedia). "
   ]
  },
  {
   "cell_type": "markdown",
   "id": "6963ce9c",
   "metadata": {},
   "source": [
    "## 2. State Gibart’s Law. Why does Gibart’s Law suggest that certain variables have a Log-Normal distribution?\n"
   ]
  },
  {
   "cell_type": "markdown",
   "id": "191bc5c7",
   "metadata": {},
   "source": [
    "Gilbart's law states that the proportional rate of growth of a firm is independent of its absolute size, thus the law of proportional growth gives rise to a firm size distribution that is log-normal (from Wikipedia)."
   ]
  },
  {
   "cell_type": "markdown",
   "id": "dac7356e",
   "metadata": {},
   "source": [
    "## 3. Let Si be the number of stores that a supermarket chain i has. Estimate the density of S using a kernel density estimator. Indicate your choice of kernel function and bandwidth and justify these selections.\n"
   ]
  },
  {
   "cell_type": "code",
   "execution_count": 124,
   "id": "03469f2c",
   "metadata": {},
   "outputs": [
    {
     "data": {
      "text/html": [
       "<div>\n",
       "<style scoped>\n",
       "    .dataframe tbody tr th:only-of-type {\n",
       "        vertical-align: middle;\n",
       "    }\n",
       "\n",
       "    .dataframe tbody tr th {\n",
       "        vertical-align: top;\n",
       "    }\n",
       "\n",
       "    .dataframe thead th {\n",
       "        text-align: right;\n",
       "    }\n",
       "</style>\n",
       "<table border=\"1\" class=\"dataframe\">\n",
       "  <thead>\n",
       "    <tr style=\"text-align: right;\">\n",
       "      <th></th>\n",
       "      <th>firm</th>\n",
       "      <th>number_of_stores</th>\n",
       "    </tr>\n",
       "  </thead>\n",
       "  <tbody>\n",
       "    <tr>\n",
       "      <th>0</th>\n",
       "      <td>114 Grocery &amp; Deli Incorporated</td>\n",
       "      <td>1</td>\n",
       "    </tr>\n",
       "    <tr>\n",
       "      <th>1</th>\n",
       "      <td>1st Oriental Supermarket</td>\n",
       "      <td>2</td>\n",
       "    </tr>\n",
       "    <tr>\n",
       "      <th>2</th>\n",
       "      <td>A &amp; A Fine Foods</td>\n",
       "      <td>1</td>\n",
       "    </tr>\n",
       "    <tr>\n",
       "      <th>3</th>\n",
       "      <td>A &amp; G Fine Foods Incorporated</td>\n",
       "      <td>1</td>\n",
       "    </tr>\n",
       "    <tr>\n",
       "      <th>4</th>\n",
       "      <td>A &amp; P Food Stores</td>\n",
       "      <td>109</td>\n",
       "    </tr>\n",
       "  </tbody>\n",
       "</table>\n",
       "</div>"
      ],
      "text/plain": [
       "                              firm  number_of_stores\n",
       "0  114 Grocery & Deli Incorporated                 1\n",
       "1         1st Oriental Supermarket                 2\n",
       "2                 A & A Fine Foods                 1\n",
       "3    A & G Fine Foods Incorporated                 1\n",
       "4                A & P Food Stores               109"
      ]
     },
     "execution_count": 124,
     "metadata": {},
     "output_type": "execute_result"
    }
   ],
   "source": [
    "#display(df.number_of_stores[:])\n",
    "#type(df.number_of_stores)\n",
    "(df['number_of_stores'])\n",
    "df.head()"
   ]
  },
  {
   "cell_type": "code",
   "execution_count": 268,
   "id": "fd447650",
   "metadata": {},
   "outputs": [
    {
     "data": {
      "text/plain": [
       "(637, 1)"
      ]
     },
     "execution_count": 268,
     "metadata": {},
     "output_type": "execute_result"
    }
   ],
   "source": [
    "num_stores = df[['number_of_stores']].to_numpy()\n",
    "np.shape(num_stores)"
   ]
  },
  {
   "cell_type": "code",
   "execution_count": 293,
   "id": "ed4d3fa0",
   "metadata": {},
   "outputs": [
    {
     "data": {
      "text/plain": [
       "[<matplotlib.lines.Line2D at 0x7fa1ddec4d00>]"
      ]
     },
     "execution_count": 293,
     "metadata": {},
     "output_type": "execute_result"
    },
    {
     "data": {
      "image/png": "[encoded data removed]",
      "text/plain": [
       "<Figure size 432x288 with 1 Axes>"
      ]
     },
     "metadata": {
      "needs_background": "light"
     },
     "output_type": "display_data"
    }
   ],
   "source": [
    "kde = KernelDensity(kernel = 'gaussian', bandwidth = 0.1).fit(num_stores)\n",
    "X_plot = np.linspace(0, 10, 6370)[:, np.newaxis]\n",
    "log_dens = kde.score_samples(X_plot)\n",
    "plt.plot(\n",
    "        X_plot[:, 0],\n",
    "        np.exp(log_dens),\n",
    "        lw=lw,\n",
    "        linestyle=\"-\",\n",
    "        label=\"kernel = '{0}'\".format(kernel))"
   ]
  },
  {
   "cell_type": "code",
   "execution_count": 296,
   "id": "bc592b1b",
   "metadata": {},
   "outputs": [
    {
     "data": {
      "text/plain": [
       "[<matplotlib.lines.Line2D at 0x7fa1dda43070>]"
      ]
     },
     "execution_count": 296,
     "metadata": {},
     "output_type": "execute_result"
    },
    {
     "data": {
      "image/png": "[encoded data removed]",
      "text/plain": [
       "<Figure size 432x288 with 1 Axes>"
      ]
     },
     "metadata": {
      "needs_background": "light"
     },
     "output_type": "display_data"
    }
   ],
   "source": [
    "kde = KernelDensity(kernel = 'gaussian', bandwidth = 0.1).fit(num_stores)\n",
    "X_plot = np.linspace(0, 2600, 1000)[:, np.newaxis]\n",
    "log_dens = kde.score_samples(X_plot)\n",
    "plt.plot(\n",
    "        X_plot[:, 0],\n",
    "        np.exp(log_dens),\n",
    "        lw=lw,\n",
    "        linestyle=\"-\",\n",
    "        label=\"kernel = '{0}'\".format(kernel))"
   ]
  },
  {
   "cell_type": "code",
   "execution_count": 135,
   "id": "04141b93",
   "metadata": {},
   "outputs": [],
   "source": [
    "import scipy.stats"
   ]
  },
  {
   "cell_type": "code",
   "execution_count": 271,
   "id": "0fba3acf",
   "metadata": {
    "scrolled": true
   },
   "outputs": [
    {
     "data": {
      "image/png": "[encoded data removed]",
      "text/plain": [
       "<Figure size 432x288 with 1 Axes>"
      ]
     },
     "metadata": {
      "needs_background": "light"
     },
     "output_type": "display_data"
    },
    {
     "data": {
      "text/plain": [
       "(1000, 1)"
      ]
     },
     "execution_count": 271,
     "metadata": {},
     "output_type": "execute_result"
    }
   ],
   "source": [
    "N = 100\n",
    "np.random.seed(1)\n",
    "X = np.concatenate(\n",
    "    (np.random.normal(0, 1, int(0.3 * N)), np.random.normal(5, 1, int(0.7 * N)))\n",
    ")[:, np.newaxis]\n",
    "\n",
    "X_plot = np.linspace(-5, 10, 100*10)[:, np.newaxis]\n",
    "\n",
    "true_dens = 0.3 * scipy.stats.norm(0, 1).pdf(X_plot[:, 0]) + 0.7 * scipy.stats.norm(5, 1).pdf(X_plot[:, 0])\n",
    "\n",
    "fig, ax = plt.subplots()\n",
    "ax.fill(X_plot[:, 0], true_dens, fc=\"black\", alpha=0.2, label=\"input distribution\")\n",
    "colors = [\"navy\", \"cornflowerblue\", \"darkorange\"]\n",
    "kernels = [\"gaussian\", \"tophat\", \"epanechnikov\"]\n",
    "lw = 2\n",
    "\n",
    "for color, kernel in zip(colors, kernels):\n",
    "    kde = KernelDensity(kernel=kernel, bandwidth=0.5).fit(X)\n",
    "    log_dens = kde.score_samples(X_plot)\n",
    "    ax.plot(\n",
    "        X_plot[:, 0],\n",
    "        np.exp(log_dens),\n",
    "        color=color,\n",
    "        lw=lw,\n",
    "        linestyle=\"-\",\n",
    "        label=\"kernel = '{0}'\".format(kernel),\n",
    "    )\n",
    "\n",
    "ax.text(6, 0.38, \"N={0} points\".format(N))\n",
    "\n",
    "ax.legend(loc=\"upper left\")\n",
    "ax.plot(X[:, 0], -0.005 - 0.01 * np.random.random(X.shape[0]), \"+k\")\n",
    "\n",
    "ax.set_xlim(-4, 9)\n",
    "ax.set_ylim(-0.02, 0.4)\n",
    "plt.show()\n",
    "\n",
    "np.shape(X_plot)\n"
   ]
  },
  {
   "cell_type": "markdown",
   "id": "296b63d2",
   "metadata": {},
   "source": [
    "## 4. Using a GMM estimate the Pareto distribution that fits the data. Report your results."
   ]
  },
  {
   "cell_type": "code",
   "execution_count": null,
   "id": "cc78c59a",
   "metadata": {},
   "outputs": [],
   "source": []
  },
  {
   "cell_type": "code",
   "execution_count": null,
   "id": "e5eeeb2b",
   "metadata": {},
   "outputs": [],
   "source": []
  },
  {
   "cell_type": "markdown",
   "id": "f54a173a",
   "metadata": {},
   "source": [
    "## 5. Using GMM estimate the log-Normal distribution that fits the data. Re- port your results."
   ]
  },
  {
   "cell_type": "code",
   "execution_count": null,
   "id": "e965d5ec",
   "metadata": {},
   "outputs": [],
   "source": []
  },
  {
   "cell_type": "markdown",
   "id": "8f515cee",
   "metadata": {},
   "source": [
    "## 6. Using a Kolmogorov-Smirnov test determine whether the log-Normal or the Pareto distribution represent the data. Which one is doing better according the K-S statistics?\n"
   ]
  },
  {
   "cell_type": "code",
   "execution_count": null,
   "id": "8a31ef17",
   "metadata": {},
   "outputs": [],
   "source": []
  }
 ],
 "metadata": {
  "kernelspec": {
   "display_name": "Python 3 (ipykernel)",
   "language": "python",
   "name": "python3"
  },
  "language_info": {
   "codemirror_mode": {
    "name": "ipython",
    "version": 3
   },
   "file_extension": ".py",
   "mimetype": "text/x-python",
   "name": "python",
   "nbconvert_exporter": "python",
   "pygments_lexer": "ipython3",
   "version": "3.9.7"
  },
  "varInspector": {
   "cols": {
    "lenName": 16,
    "lenType": 16,
    "lenVar": 40
   },
   "kernels_config": {
    "python": {
     "delete_cmd_postfix": "",
     "delete_cmd_prefix": "del ",
     "library": "var_list.py",
     "varRefreshCmd": "print(var_dic_list())"
    },
    "r": {
     "delete_cmd_postfix": ") ",
     "delete_cmd_prefix": "rm(",
     "library": "var_list.r",
     "varRefreshCmd": "cat(var_dic_list()) "
    }
   },
   "types_to_exclude": [
    "module",
    "function",
    "builtin_function_or_method",
    "instance",
    "_Feature"
   ],
   "window_display": false
  }
 },
 "nbformat": 4,
 "nbformat_minor": 5
}
